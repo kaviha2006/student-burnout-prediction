{
  "nbformat": 4,
  "nbformat_minor": 0,
  "metadata": {
    "colab": {
      "provenance": [],
      "authorship_tag": "ABX9TyPD9pIDr30Kpd6Qrq3LIEe4",
      "include_colab_link": true
    },
    "kernelspec": {
      "name": "python3",
      "display_name": "Python 3"
    },
    "language_info": {
      "name": "python"
    }
  },
  "cells": [
    {
      "cell_type": "markdown",
      "metadata": {
        "id": "view-in-github",
        "colab_type": "text"
      },
      "source": [
        "<a href=\"https://colab.research.google.com/github/kaviha2006/student-burnout-prediction/blob/main/product_recommender.ipynb\" target=\"_parent\"><img src=\"https://colab.research.google.com/assets/colab-badge.svg\" alt=\"Open In Colab\"/></a>"
      ]
    },
    {
      "cell_type": "code",
      "execution_count": 6,
      "metadata": {
        "colab": {
          "base_uri": "https://localhost:8080/",
          "height": 815
        },
        "id": "HONBGjS1dagK",
        "outputId": "5b612b0b-1a05-482a-af26-d60f2111820c"
      },
      "outputs": [
        {
          "output_type": "stream",
          "name": "stdout",
          "text": [
            "Original Ratings Data:\n",
            "   user_id product  rating\n",
            "0        1     Bag       5\n",
            "1        1   Shoes       4\n",
            "2        1   Watch       5\n",
            "3        2     Bag       5\n",
            "4        2   Shoes       3\n",
            "5        3   Shoes       4\n",
            "6        3   Watch       5\n",
            "7        4     Bag       2\n",
            "8        4   Watch       5\n",
            "9        5   Shoes       4\n"
          ]
        },
        {
          "output_type": "display_data",
          "data": {
            "text/plain": [
              "<Figure size 640x480 with 1 Axes>"
            ],
            "image/png": "[encoded data removed]"
          },
          "metadata": {}
        },
        {
          "output_type": "stream",
          "name": "stdout",
          "text": [
            "\n",
            "User-Product Matrix:\n",
            "product  Bag  Shoes  Watch\n",
            "user_id                   \n",
            "1        5.0    4.0    5.0\n",
            "2        5.0    3.0    0.0\n",
            "3        0.0    4.0    5.0\n",
            "4        2.0    0.0    5.0\n",
            "5        0.0    4.0    0.0\n",
            "\n",
            "User-User Similarity Matrix:\n",
            "user_id         1         2         3         4         5\n",
            "user_id                                                  \n",
            "1        1.000000  0.781071  0.788170  0.800013  0.492366\n",
            "2        0.781071  1.000000  0.321403  0.318465  0.514496\n",
            "3        0.788170  0.321403  1.000000  0.725018  0.624695\n",
            "4        0.800013  0.318465  0.725018  1.000000  0.000000\n",
            "5        0.492366  0.514496  0.624695  0.000000  1.000000\n",
            "Recommended products for User 2:\n",
            "['Watch']\n"
          ]
        }
      ],
      "source": [
        "# Step 1: Import required libraries\n",
        "import pandas as pd\n",
        "import numpy as np\n",
        "import matplotlib.pyplot as plt\n",
        "from sklearn.metrics.pairwise import cosine_similarity\n",
        "\n",
        "# Step 2: Sample dataset (user-product ratings)\n",
        "data = {\n",
        "    'user_id': [1, 1, 1, 2, 2, 3, 3, 4, 4, 5],\n",
        "    'product': ['Bag', 'Shoes', 'Watch',\n",
        "                'Bag', 'Shoes',\n",
        "                'Shoes', 'Watch',\n",
        "                'Bag', 'Watch',\n",
        "                'Shoes'],\n",
        "    'rating': [5, 4, 5, 5, 3, 4, 5, 2, 5, 4]\n",
        "}\n",
        "\n",
        "df = pd.DataFrame(data)\n",
        "print(\"Original Ratings Data:\")\n",
        "print(df)\n",
        "\n",
        "# Step 3: Visualize average ratings per product (Bar Chart)\n",
        "avg_ratings = df.groupby('product')['rating'].mean()\n",
        "avg_ratings.plot(kind='bar', color='skyblue')\n",
        "plt.title('Average Product Ratings')\n",
        "plt.ylabel('Average Rating')\n",
        "plt.xlabel('Product')\n",
        "plt.xticks(rotation=0)\n",
        "plt.show()\n",
        "\n",
        "# Step 4: Create User-Product matrix\n",
        "user_product_matrix = df.pivot_table(index='user_id', columns='product', values='rating')\n",
        "user_product_matrix.fillna(0, inplace=True)\n",
        "print(\"\\nUser-Product Matrix:\")\n",
        "print(user_product_matrix)\n",
        "\n",
        "# Step 5: Compute cosine similarity between users\n",
        "user_similarity = cosine_similarity(user_product_matrix)\n",
        "user_similarity_df = pd.DataFrame(user_similarity, index=user_product_matrix.index, columns=user_product_matrix.index)\n",
        "print(\"\\nUser-User Similarity Matrix:\")\n",
        "print(user_similarity_df)\n",
        "\n",
        "# Step 6: Recommend products based on similar users\n",
        "def recommend_products(user_id, num_recommendations=2):\n",
        "    similar_users = user_similarity_df[user_id].sort_values(ascending=False)\n",
        "    similar_users = similar_users.drop(user_id)\n",
        "\n",
        "    user_products = set(df[df['user_id'] == user_id]['product'])\n",
        "\n",
        "    recommendations = {}\n",
        "    for sim_user in similar_users.index:\n",
        "        sim_user_products = df[df['user_id'] == sim_user][['product', 'rating']]\n",
        "        for _, row in sim_user_products.iterrows():\n",
        "            if row['product'] not in user_products:\n",
        "                if row['product'] not in recommendations:\n",
        "                    recommendations[row['product']] = row['rating']\n",
        "                else:\n",
        "                    recommendations[row['product']] += row['rating']\n",
        "\n",
        "    sorted_recs = sorted(recommendations.items(), key=lambda x: x[1], reverse=True)\n",
        "    return [product for product, score in sorted_recs[:num_recommendations]]\n",
        "\n",
        "# Step 7: Example usage\n",
        "print(\"Recommended products for User 2:\")\n",
        "print(recommend_products(2))"
      ]
    }
  ]
}